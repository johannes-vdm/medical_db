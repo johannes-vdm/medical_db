{
    "metadata": {
        "kernelspec": {
            "name": "SQL",
            "display_name": "SQL",
            "language": "sql"
        },
        "language_info": {
            "name": "sql",
            "version": ""
        }
    },
    "nbformat_minor": 2,
    "nbformat": 4,
    "cells": [
        {
            "cell_type": "markdown",
            "source": [
                "Medication plan:\n",
                "\n",
                "  \n",
                "\n",
                "POST patient={patientId}/medicationPlanId={medicationPlanId}\n",
                "\n",
                "medication: '',\n",
                "\n",
                "dosage: '',\n",
                "\n",
                "instructions: '',\n",
                "\n",
                "scheduleTimes: \\[''\\], // ex. '15:00:00','17:00:00',\n",
                "\n",
                "endsAt: {\n",
                "\n",
                "date: '2024-11-10',\n",
                "\n",
                "  indefinte: false,\n",
                "\n",
                "}\n",
                "\n",
                "  \n",
                "\n",
                "Backend endsAt handler:\n",
                "\n",
                "Check if any medication plans has ended before providing to the endpoint by checking the endsAt date or indefinte:\n",
                "\n",
                "  \n",
                "\n",
                "Indefinte should be false as default.\n",
                "\n",
                "  \n",
                "\n",
                "GET /patient={patientId}/medicationPlan/Date={dateOfShowcase}:\n",
                "\n",
                "  \n",
                "\n",
                "example output: \n",
                "\n",
                "\\[\n",
                "\n",
                "// scheduleDate:2023/12/22,\n",
                "\n",
                "scheduleTime: 6:00:00,\n",
                "\n",
                " administeredBy: {\n",
                "\n",
                " id,\n",
                "\n",
                " ...\n",
                "\n",
                " }\n",
                "\n",
                "  medication {\n",
                "\n",
                "    name,\n",
                "\n",
                "    dosage,\n",
                "\n",
                "  }\n",
                "\n",
                "\\],\n",
                "\n",
                "\\[\n",
                "\n",
                "// scheduleDate:2023/12/22, \n",
                "\n",
                "scheduleTime: 6:00:00,\n",
                "\n",
                "administeredBy: {\n",
                "\n",
                "id,\n",
                "\n",
                " ...\n",
                "\n",
                " }\n",
                "\n",
                "  medication {\n",
                "\n",
                "    name,\n",
                "\n",
                "    dosage,\n",
                "\n",
                "  }\n",
                "\n",
                "\\]\n",
                "\n",
                "...\n",
                "\n",
                "  \n",
                "\n",
                "}\n",
                "\n",
                "  \n",
                "\n",
                "If dateOfShowcase \\> endsAt.date || indefinte = true:\n",
                "\n",
                "{\n",
                "\n",
                "  endsAt: yesterday\n",
                "\n",
                "}\n",
                "\n",
                "Do not return the medication in the showcase list:\n",
                "\n",
                "  \n",
                "\n",
                "For example:\n",
                "\n",
                "We would like to showcase for:\n",
                "\n",
                "/2023/12/22: \n",
                "\n",
                "endsAt: {\n",
                "\n",
                "date: '2023/12/11',\n",
                "\n",
                "  indefinte: false,\n",
                "\n",
                "}\n",
                "\n",
                ", we do not return\n",
                "\n",
                "  \n",
                "\n",
                "  \n",
                "\n",
                "if endsAt: {\n",
                "\n",
                "date: '2023/12/30',\n",
                "\n",
                "  indefinte: false,\n",
                "\n",
                "}\n",
                "\n",
                "return this medication in the dateOfShowCase\n",
                "\n",
                "  \n",
                "\n",
                "Medication list:\n",
                "\n",
                "  \n",
                "\n",
                "/patient={patientId}/medicationPlan/Date={dateOfShowcase}\n",
                "\n",
                "{\n",
                "\n",
                "\\[\n",
                "\n",
                "medicationId,\n",
                "\n",
                "  scheduleTimes,\n",
                "\n",
                "  dosage,\n",
                "\n",
                "  description,\n",
                "\n",
                "  administered: true/false,\n",
                "\n",
                "\\]\n",
                "\n",
                "}\n",
                "\n",
                "  \n",
                "\n",
                "// For the future plans: If we'd like to display the following for a specific section in the hospital, such as a bed group:\n",
                "\n",
                "/hospitalGroup={hospitalGroupId}/medicationPlan/Date={dateOfShowcase}\n",
                "\n",
                "{\n",
                "\n",
                "\\[\n",
                "\n",
                "medicationId,\n",
                "\n",
                "  scheduleTimes,\n",
                "\n",
                "  dosage,\n",
                "\n",
                "  description,\n",
                "\n",
                "\\]\n",
                "\n",
                "}\n",
                "\n",
                "  \n",
                "\n",
                "  \n",
                "\n",
                "  \n",
                "\n",
                "DB:\n",
                "\n",
                "patient\\_table:::\n",
                "\n",
                "id pk: \n",
                "\n",
                "first\\_name: \n",
                "\n",
                "last\\_name:\n",
                "\n",
                "bed\\_number:\n",
                "\n",
                "  \n",
                "\n",
                "user\\_table:::\n",
                "\n",
                "id pk:\n",
                "\n",
                "first\\_name:\n",
                "\n",
                "last\\_name:\n",
                "\n",
                "role(s):\n",
                "\n",
                "  \n",
                "\n",
                "medication\\_schedule\\_table\n",
                "\n",
                "id pk:\n",
                "\n",
                "patientId sk:\n",
                "\n",
                "medicationId sk:\n",
                "\n",
                "dosage: \n",
                "\n",
                "instruction:\n",
                "\n",
                "start\\_at: (created at)\n",
                "\n",
                "ends\\_at:\n",
                "\n",
                "indefinte: false,\n",
                "\n",
                "alternative: JSON\n",
                "\n",
                "  \n",
                "\n",
                "medication\\_schedule\\_times\\_table\n",
                "\n",
                "id pk\n",
                "\n",
                "medicationScheduleId\n",
                "\n",
                "time: number\n",
                "\n",
                "  \n",
                "\n",
                "medication\\_table:\n",
                "\n",
                "id pk:\n",
                "\n",
                "name:\n",
                "\n",
                "  \n",
                "\n",
                "medication\\_administration:\n",
                "\n",
                "id pk: \n",
                "\n",
                "administered\\_date\\_time:\n",
                "\n",
                "medication\\_schedule\\_times\\_id fk: \n",
                "\n",
                "administered\\_by\\_user\\_id fk:"
            ],
            "metadata": {
                "language": "sql",
                "azdata_cell_guid": "fc85bdba-02f6-4bbb-9045-4416e024f650"
            },
            "attachments": {}
        },
        {
            "cell_type": "code",
            "source": [
                "SELECT TOP (1000) [id]\r\n",
                "      ,[first_name]\r\n",
                "      ,[last_name]\r\n",
                "      ,[role]\r\n",
                "  FROM [MedicationDB].[dbo].[user_table]"
            ],
            "metadata": {
                "azdata_cell_guid": "6c66068b-1cb3-45c7-9eef-417f71f6041e",
                "language": "sql"
            },
            "outputs": [
                {
                    "output_type": "display_data",
                    "data": {
                        "text/html": "(2 rows affected)"
                    },
                    "metadata": {}
                },
                {
                    "output_type": "display_data",
                    "data": {
                        "text/html": "Total execution time: 00:00:00.003"
                    },
                    "metadata": {}
                },
                {
                    "output_type": "execute_result",
                    "execution_count": 1,
                    "data": {
                        "application/vnd.dataresource+json": {
                            "schema": {
                                "fields": [
                                    {
                                        "name": "id"
                                    },
                                    {
                                        "name": "first_name"
                                    },
                                    {
                                        "name": "last_name"
                                    },
                                    {
                                        "name": "role"
                                    }
                                ]
                            },
                            "data": [
                                {
                                    "0": "1",
                                    "1": "Admin",
                                    "2": "Admin",
                                    "3": "Administrator"
                                },
                                {
                                    "0": "2",
                                    "1": "Annelie",
                                    "2": "Smith",
                                    "3": "Nurse"
                                }
                            ]
                        },
                        "text/html": "<table><tr><th>id</th><th>first_name</th><th>last_name</th><th>role</th></tr><tr><td>1</td><td>Admin</td><td>Admin</td><td>Administrator</td></tr><tr><td>2</td><td>Annelie</td><td>Smith</td><td>Nurse</td></tr></table>"
                    },
                    "metadata": {}
                }
            ],
            "execution_count": 1
        },
        {
            "cell_type": "code",
            "source": [
                "SELECT TOP (1000) [id]\r\n",
                "      ,[first_name]\r\n",
                "      ,[last_name]\r\n",
                "      ,[bed_number]\r\n",
                "  FROM [MedicationDB].[dbo].[patient_table]"
            ],
            "metadata": {
                "language": "sql",
                "azdata_cell_guid": "37785e23-eb53-4078-9bde-1547e5a1f9ad"
            },
            "outputs": [
                {
                    "output_type": "display_data",
                    "data": {
                        "text/html": "(2 rows affected)"
                    },
                    "metadata": {}
                },
                {
                    "output_type": "display_data",
                    "data": {
                        "text/html": "Total execution time: 00:00:00.004"
                    },
                    "metadata": {}
                },
                {
                    "output_type": "execute_result",
                    "metadata": {},
                    "execution_count": 1,
                    "data": {
                        "application/vnd.dataresource+json": {
                            "schema": {
                                "fields": [
                                    {
                                        "name": "id"
                                    },
                                    {
                                        "name": "first_name"
                                    },
                                    {
                                        "name": "last_name"
                                    },
                                    {
                                        "name": "bed_number"
                                    }
                                ]
                            },
                            "data": [
                                {
                                    "0": "1",
                                    "1": "John",
                                    "2": "Doe",
                                    "3": "101"
                                },
                                {
                                    "0": "2",
                                    "1": "Jane",
                                    "2": "Smith",
                                    "3": "102"
                                }
                            ]
                        },
                        "text/html": [
                            "<table>",
                            "<tr><th>id</th><th>first_name</th><th>last_name</th><th>bed_number</th></tr>",
                            "<tr><td>1</td><td>John</td><td>Doe</td><td>101</td></tr>",
                            "<tr><td>2</td><td>Jane</td><td>Smith</td><td>102</td></tr>",
                            "</table>"
                        ]
                    }
                }
            ],
            "execution_count": 1
        },
        {
            "cell_type": "code",
            "source": [
                "SELECT TOP (1000) [id]\r\n",
                "      ,[name]\r\n",
                "  FROM [MedicationDB].[dbo].[medication_table]"
            ],
            "metadata": {
                "azdata_cell_guid": "2ba00923-6a6c-4c12-9297-4d982e295609",
                "language": "sql"
            },
            "outputs": [
                {
                    "output_type": "display_data",
                    "data": {
                        "text/html": "(2 rows affected)"
                    },
                    "metadata": {}
                },
                {
                    "output_type": "display_data",
                    "data": {
                        "text/html": "Total execution time: 00:00:00.005"
                    },
                    "metadata": {}
                },
                {
                    "output_type": "execute_result",
                    "metadata": {},
                    "execution_count": 2,
                    "data": {
                        "application/vnd.dataresource+json": {
                            "schema": {
                                "fields": [
                                    {
                                        "name": "id"
                                    },
                                    {
                                        "name": "name"
                                    }
                                ]
                            },
                            "data": [
                                {
                                    "0": "1",
                                    "1": "Medication A"
                                },
                                {
                                    "0": "2",
                                    "1": "Medication B"
                                }
                            ]
                        },
                        "text/html": [
                            "<table>",
                            "<tr><th>id</th><th>name</th></tr>",
                            "<tr><td>1</td><td>Medication A</td></tr>",
                            "<tr><td>2</td><td>Medication B</td></tr>",
                            "</table>"
                        ]
                    }
                }
            ],
            "execution_count": 2
        },
        {
            "cell_type": "code",
            "source": [
                "SELECT TOP (1000) [id]\r\n",
                "      ,[patient_id]\r\n",
                "      ,[medication_id]\r\n",
                "      ,[dosage]\r\n",
                "      ,[instructions]\r\n",
                "      ,[starts_at]\r\n",
                "      ,[ends_at]\r\n",
                "      ,[alternative]\r\n",
                "  FROM [MedicationDB].[dbo].[medication_schedule_table]"
            ],
            "metadata": {
                "azdata_cell_guid": "2a55ebe3-d9cf-4d5b-9c2d-b9dbb84955ef",
                "language": "sql"
            },
            "outputs": [
                {
                    "output_type": "display_data",
                    "data": {
                        "text/html": "(2 rows affected)"
                    },
                    "metadata": {}
                },
                {
                    "output_type": "display_data",
                    "data": {
                        "text/html": "Total execution time: 00:00:00.007"
                    },
                    "metadata": {}
                },
                {
                    "output_type": "execute_result",
                    "metadata": {},
                    "execution_count": 6,
                    "data": {
                        "application/vnd.dataresource+json": {
                            "schema": {
                                "fields": [
                                    {
                                        "name": "id"
                                    },
                                    {
                                        "name": "patient_id"
                                    },
                                    {
                                        "name": "medication_id"
                                    },
                                    {
                                        "name": "dosage"
                                    },
                                    {
                                        "name": "instructions"
                                    },
                                    {
                                        "name": "starts_at"
                                    },
                                    {
                                        "name": "ends_at"
                                    },
                                    {
                                        "name": "alternative"
                                    }
                                ]
                            },
                            "data": [
                                {
                                    "0": "1",
                                    "1": "1",
                                    "2": "1",
                                    "3": "10mg",
                                    "4": "Take with water",
                                    "5": "2023-01-01",
                                    "6": "2024-11-10",
                                    "7": "NULL"
                                },
                                {
                                    "0": "2",
                                    "1": "2",
                                    "2": "2",
                                    "3": "5mg",
                                    "4": "Take before meals",
                                    "5": "2023-01-01",
                                    "6": "2024-12-15",
                                    "7": "{\"alternative_info\": \"Some alternative information\"}"
                                }
                            ]
                        },
                        "text/html": [
                            "<table>",
                            "<tr><th>id</th><th>patient_id</th><th>medication_id</th><th>dosage</th><th>instructions</th><th>starts_at</th><th>ends_at</th><th>alternative</th></tr>",
                            "<tr><td>1</td><td>1</td><td>1</td><td>10mg</td><td>Take with water</td><td>2023-01-01</td><td>2024-11-10</td><td>NULL</td></tr>",
                            "<tr><td>2</td><td>2</td><td>2</td><td>5mg</td><td>Take before meals</td><td>2023-01-01</td><td>2024-12-15</td><td>{&quot;alternative_info&quot;: &quot;Some alternative information&quot;}</td></tr>",
                            "</table>"
                        ]
                    }
                }
            ],
            "execution_count": 6
        },
        {
            "cell_type": "code",
            "source": [
                "SELECT TOP (1000) [id]\r\n",
                "      ,[medication_schedule_id]\r\n",
                "      ,[time]\r\n",
                "  FROM [MedicationDB].[dbo].[medication_schedule_times_table]"
            ],
            "metadata": {
                "azdata_cell_guid": "5c2d0e5a-0a5b-4fce-9c10-6cc6d8aa8ff7",
                "language": "sql"
            },
            "outputs": [
                {
                    "output_type": "display_data",
                    "data": {
                        "text/html": "(3 rows affected)"
                    },
                    "metadata": {}
                },
                {
                    "output_type": "display_data",
                    "data": {
                        "text/html": "Total execution time: 00:00:00.004"
                    },
                    "metadata": {}
                },
                {
                    "output_type": "execute_result",
                    "metadata": {},
                    "execution_count": 4,
                    "data": {
                        "application/vnd.dataresource+json": {
                            "schema": {
                                "fields": [
                                    {
                                        "name": "id"
                                    },
                                    {
                                        "name": "medication_schedule_id"
                                    },
                                    {
                                        "name": "time"
                                    }
                                ]
                            },
                            "data": [
                                {
                                    "0": "1",
                                    "1": "1",
                                    "2": "08:00:00"
                                },
                                {
                                    "0": "2",
                                    "1": "1",
                                    "2": "12:00:00"
                                },
                                {
                                    "0": "3",
                                    "1": "2",
                                    "2": "09:30:00"
                                }
                            ]
                        },
                        "text/html": [
                            "<table>",
                            "<tr><th>id</th><th>medication_schedule_id</th><th>time</th></tr>",
                            "<tr><td>1</td><td>1</td><td>08:00:00</td></tr>",
                            "<tr><td>2</td><td>1</td><td>12:00:00</td></tr>",
                            "<tr><td>3</td><td>2</td><td>09:30:00</td></tr>",
                            "</table>"
                        ]
                    }
                }
            ],
            "execution_count": 4
        },
        {
            "cell_type": "code",
            "source": [
                "SELECT TOP (1000) [id]\r\n",
                "      ,[administered_date_time]\r\n",
                "      ,[medication_schedule_times_id]\r\n",
                "      ,[administered_by_user_id]\r\n",
                "  FROM [MedicationDB].[dbo].[medication_administration_table]"
            ],
            "metadata": {
                "azdata_cell_guid": "17e742ee-796a-4968-afce-9388ce2dc799",
                "language": "sql"
            },
            "outputs": [
                {
                    "output_type": "display_data",
                    "data": {
                        "text/html": "(2 rows affected)"
                    },
                    "metadata": {}
                },
                {
                    "output_type": "display_data",
                    "data": {
                        "text/html": "Total execution time: 00:00:00.005"
                    },
                    "metadata": {}
                },
                {
                    "output_type": "execute_result",
                    "metadata": {},
                    "execution_count": 7,
                    "data": {
                        "application/vnd.dataresource+json": {
                            "schema": {
                                "fields": [
                                    {
                                        "name": "id"
                                    },
                                    {
                                        "name": "administered_date_time"
                                    },
                                    {
                                        "name": "medication_schedule_times_id"
                                    },
                                    {
                                        "name": "administered_by_user_id"
                                    }
                                ]
                            },
                            "data": [
                                {
                                    "0": "1",
                                    "1": "2024-11-10 08:30:00.000",
                                    "2": "1",
                                    "3": "2"
                                },
                                {
                                    "0": "2",
                                    "1": "2024-12-15 10:00:00.000",
                                    "2": "3",
                                    "3": "1"
                                }
                            ]
                        },
                        "text/html": [
                            "<table>",
                            "<tr><th>id</th><th>administered_date_time</th><th>medication_schedule_times_id</th><th>administered_by_user_id</th></tr>",
                            "<tr><td>1</td><td>2024-11-10 08:30:00.000</td><td>1</td><td>2</td></tr>",
                            "<tr><td>2</td><td>2024-12-15 10:00:00.000</td><td>3</td><td>1</td></tr>",
                            "</table>"
                        ]
                    }
                }
            ],
            "execution_count": 7
        },
        {
            "cell_type": "code",
            "source": [
                "-- GET /patient={patientId}/medicationPlan/Date={dateOfShowcase}:\r\n",
                "\r\n",
                "USE MedicationDB;\r\n",
                "SELECT\r\n",
                "  pt.id AS patient_id,\r\n",
                "  st.starts_at AS schedule_start_date,\r\n",
                "  --   pt.first_name AS patient_first_name,\r\n",
                "  --   pt.last_name AS patient_last_name,\r\n",
                "  --   st.id AS schedule_id,\r\n",
                "  st.ends_at AS schedule_end_date,\r\n",
                "  st.dosage AS medication_dosage,\r\n",
                "  st.instructions AS instructions,\r\n",
                "  mstt.time AS schedule_time,\r\n",
                "  ma.administered_by_user_id,\r\n",
                "  mt.name AS medication_name\r\n",
                "\r\n",
                "FROM\r\n",
                "  patient_table pt\r\n",
                "  INNER JOIN medication_schedule_table st ON pt.id = st.patient_id\r\n",
                "  INNER JOIN medication_schedule_times_table mstt ON st.id = mstt.medication_schedule_id\r\n",
                "  LEFT JOIN medication_administration_table ma ON mstt.id = ma.medication_schedule_times_id\r\n",
                "  INNER JOIN medication_table mt ON st.medication_id = mt.id\r\n",
                "WHERE\r\n",
                "  pt.id = 1\r\n",
                "  AND (\r\n",
                "    ('2023-01-01' BETWEEN st.starts_at AND st.ends_at)\r\n",
                "    OR ('2023-01-01' >= st.starts_at AND st.ends_at IS NULL)\r\n",
                "  );\r\n",
                ""
            ],
            "metadata": {
                "azdata_cell_guid": "dc584e8a-3f8c-4ea1-a76f-52efa363a903",
                "language": "sql",
                "tags": []
            },
            "outputs": [
                {
                    "output_type": "display_data",
                    "data": {
                        "text/html": "(2 rows affected)"
                    },
                    "metadata": {}
                },
                {
                    "output_type": "display_data",
                    "data": {
                        "text/html": "Total execution time: 00:00:00.008"
                    },
                    "metadata": {}
                },
                {
                    "output_type": "execute_result",
                    "metadata": {},
                    "execution_count": 14,
                    "data": {
                        "application/vnd.dataresource+json": {
                            "schema": {
                                "fields": [
                                    {
                                        "name": "patient_id"
                                    },
                                    {
                                        "name": "schedule_start_date"
                                    },
                                    {
                                        "name": "schedule_end_date"
                                    },
                                    {
                                        "name": "medication_dosage"
                                    },
                                    {
                                        "name": "instructions"
                                    },
                                    {
                                        "name": "schedule_time"
                                    },
                                    {
                                        "name": "administered_by_user_id"
                                    },
                                    {
                                        "name": "medication_name"
                                    }
                                ]
                            },
                            "data": [
                                {
                                    "0": "1",
                                    "1": "2023-01-01",
                                    "2": "2024-11-10",
                                    "3": "10mg",
                                    "4": "Take with water",
                                    "5": "08:00:00",
                                    "6": "2",
                                    "7": "Medication A"
                                },
                                {
                                    "0": "1",
                                    "1": "2023-01-01",
                                    "2": "2024-11-10",
                                    "3": "10mg",
                                    "4": "Take with water",
                                    "5": "12:00:00",
                                    "6": "NULL",
                                    "7": "Medication A"
                                }
                            ]
                        },
                        "text/html": [
                            "<table>",
                            "<tr><th>patient_id</th><th>schedule_start_date</th><th>schedule_end_date</th><th>medication_dosage</th><th>instructions</th><th>schedule_time</th><th>administered_by_user_id</th><th>medication_name</th></tr>",
                            "<tr><td>1</td><td>2023-01-01</td><td>2024-11-10</td><td>10mg</td><td>Take with water</td><td>08:00:00</td><td>2</td><td>Medication A</td></tr>",
                            "<tr><td>1</td><td>2023-01-01</td><td>2024-11-10</td><td>10mg</td><td>Take with water</td><td>12:00:00</td><td>NULL</td><td>Medication A</td></tr>",
                            "</table>"
                        ]
                    }
                }
            ],
            "execution_count": 14
        }
    ]
}