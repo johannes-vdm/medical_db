{
    "cells": [
        {
            "attachments": {},
            "cell_type": "markdown",
            "metadata": {
                "azdata_cell_guid": "fc85bdba-02f6-4bbb-9045-4416e024f650",
                "language": "sql"
            },
            "source": [
                "## Medication Plan:\n",
                "\n",
                "### Endpoint:\n",
                "```json\n",
                "POST patient={patientId}/medicationPlanId={medicationPlanId}\n",
                "\n",
                "{\n",
                "  \"medication\": \"\",\n",
                "  \"dosage\": \"\",\n",
                "  \"instructions\": \"\",\n",
                "  \"scheduleTimes\": [\"15:00:00\", \"17:00:00\"],\n",
                "  \"endsAt\": {\n",
                "    \"date\": \"2024-11-10\",\n",
                "    \"indefinite\": false\n",
                "  }\n",
                "}\n",
                "```\n",
                "\n",
                "# Backend endsAt Handler:\n",
                "Check if any medication plans have ended before providing to the endpoint by checking the endsAt date or indefinite. indefinite should be false as default.\n",
                "  \n",
                "# Endpoints:\n",
                "GET `/patient={patientId}/medicationPlan/Date={dateOfShowcase}`\n",
                "\n",
                "Example Output:\n",
                "```json\n",
                "[\n",
                "  {\n",
                "    \"scheduleTime\": \"6:00:00\",\n",
                "    \"administeredBy\": {\n",
                "      \"id\": \"...\",\n",
                "      // ...\n",
                "    },\n",
                "    \"medication\": {\n",
                "      \"name\": \"\",\n",
                "      \"dosage\": \"\"\n",
                "    }\n",
                "  },\n",
                "  {\n",
                "    \"scheduleTime\": \"6:00:00\",\n",
                "    \"administeredBy\": {\n",
                "      \"id\": \"...\",\n",
                "      // ...\n",
                "    },\n",
                "    \"medication\": {\n",
                "      \"name\": \"\",\n",
                "      \"dosage\": \"\"\n",
                "    }\n",
                "  },\n",
                "  // ...\n",
                "]\n",
                "```\n",
                "\n",
                "\n",
                "GET `/patient={patientId}/medicationPlan/Date={dateOfShowcase}`:\n",
                "\n",
                "example output: \n",
                "\n",
                "```json\n",
                "[\n",
                "  {\n",
                "    \"medicationId\",\n",
                "    \"scheduleTimes\",\n",
                "    \"dosage\",\n",
                "    \"description\",\n",
                "    \"administered\": true/false\n",
                "  },\n",
                "  ...\n",
                "]\n",
                "```"
            ]
        },
        {
            "cell_type": "code",
            "execution_count": 1,
            "metadata": {
                "azdata_cell_guid": "6c66068b-1cb3-45c7-9eef-417f71f6041e",
                "language": "sql"
            },
            "outputs": [
                {
                    "data": {
                        "text/html": [
                            "(2 rows affected)"
                        ]
                    },
                    "metadata": {},
                    "output_type": "display_data"
                },
                {
                    "data": {
                        "text/html": [
                            "Total execution time: 00:00:00.003"
                        ]
                    },
                    "metadata": {},
                    "output_type": "display_data"
                },
                {
                    "data": {
                        "application/vnd.dataresource+json": {
                            "data": [
                                {
                                    "0": "1",
                                    "1": "Admin",
                                    "2": "Admin",
                                    "3": "Administrator"
                                },
                                {
                                    "0": "2",
                                    "1": "Annelie",
                                    "2": "Smith",
                                    "3": "Nurse"
                                }
                            ],
                            "schema": {
                                "fields": [
                                    {
                                        "name": "id"
                                    },
                                    {
                                        "name": "first_name"
                                    },
                                    {
                                        "name": "last_name"
                                    },
                                    {
                                        "name": "role"
                                    }
                                ]
                            }
                        },
                        "text/html": [
                            "<table><tr><th>id</th><th>first_name</th><th>last_name</th><th>role</th></tr><tr><td>1</td><td>Admin</td><td>Admin</td><td>Administrator</td></tr><tr><td>2</td><td>Annelie</td><td>Smith</td><td>Nurse</td></tr></table>"
                        ]
                    },
                    "execution_count": 1,
                    "metadata": {},
                    "output_type": "execute_result"
                }
            ],
            "source": [
                "SELECT TOP (1000) [id]\n",
                "      ,[first_name]\n",
                "      ,[last_name]\n",
                "      ,[role]\n",
                "  FROM [MedicationDB].[dbo].[user_table]"
            ]
        },
        {
            "cell_type": "code",
            "execution_count": 1,
            "metadata": {
                "azdata_cell_guid": "37785e23-eb53-4078-9bde-1547e5a1f9ad",
                "language": "sql"
            },
            "outputs": [
                {
                    "data": {
                        "text/html": [
                            "(2 rows affected)"
                        ]
                    },
                    "metadata": {},
                    "output_type": "display_data"
                },
                {
                    "data": {
                        "text/html": [
                            "Total execution time: 00:00:00.004"
                        ]
                    },
                    "metadata": {},
                    "output_type": "display_data"
                },
                {
                    "data": {
                        "application/vnd.dataresource+json": {
                            "data": [
                                {
                                    "0": "1",
                                    "1": "John",
                                    "2": "Doe",
                                    "3": "101"
                                },
                                {
                                    "0": "2",
                                    "1": "Jane",
                                    "2": "Smith",
                                    "3": "102"
                                }
                            ],
                            "schema": {
                                "fields": [
                                    {
                                        "name": "id"
                                    },
                                    {
                                        "name": "first_name"
                                    },
                                    {
                                        "name": "last_name"
                                    },
                                    {
                                        "name": "bed_number"
                                    }
                                ]
                            }
                        },
                        "text/html": [
                            "<table>\n",
                            "<tr><th>id</th><th>first_name</th><th>last_name</th><th>bed_number</th></tr>\n",
                            "<tr><td>1</td><td>John</td><td>Doe</td><td>101</td></tr>\n",
                            "<tr><td>2</td><td>Jane</td><td>Smith</td><td>102</td></tr>\n",
                            "</table>"
                        ]
                    },
                    "execution_count": 1,
                    "metadata": {},
                    "output_type": "execute_result"
                }
            ],
            "source": [
                "SELECT TOP (1000) [id]\n",
                "      ,[first_name]\n",
                "      ,[last_name]\n",
                "      ,[bed_number]\n",
                "  FROM [MedicationDB].[dbo].[patient_table]"
            ]
        },
        {
            "cell_type": "code",
            "execution_count": 2,
            "metadata": {
                "azdata_cell_guid": "2ba00923-6a6c-4c12-9297-4d982e295609",
                "language": "sql"
            },
            "outputs": [
                {
                    "data": {
                        "text/html": [
                            "(2 rows affected)"
                        ]
                    },
                    "metadata": {},
                    "output_type": "display_data"
                },
                {
                    "data": {
                        "text/html": [
                            "Total execution time: 00:00:00.005"
                        ]
                    },
                    "metadata": {},
                    "output_type": "display_data"
                },
                {
                    "data": {
                        "application/vnd.dataresource+json": {
                            "data": [
                                {
                                    "0": "1",
                                    "1": "Medication A"
                                },
                                {
                                    "0": "2",
                                    "1": "Medication B"
                                }
                            ],
                            "schema": {
                                "fields": [
                                    {
                                        "name": "id"
                                    },
                                    {
                                        "name": "name"
                                    }
                                ]
                            }
                        },
                        "text/html": [
                            "<table>\n",
                            "<tr><th>id</th><th>name</th></tr>\n",
                            "<tr><td>1</td><td>Medication A</td></tr>\n",
                            "<tr><td>2</td><td>Medication B</td></tr>\n",
                            "</table>"
                        ]
                    },
                    "execution_count": 2,
                    "metadata": {},
                    "output_type": "execute_result"
                }
            ],
            "source": [
                "SELECT TOP (1000) [id]\n",
                "      ,[name]\n",
                "  FROM [MedicationDB].[dbo].[medication_table]"
            ]
        },
        {
            "cell_type": "code",
            "execution_count": 6,
            "metadata": {
                "azdata_cell_guid": "2a55ebe3-d9cf-4d5b-9c2d-b9dbb84955ef",
                "language": "sql"
            },
            "outputs": [
                {
                    "data": {
                        "text/html": [
                            "(2 rows affected)"
                        ]
                    },
                    "metadata": {},
                    "output_type": "display_data"
                },
                {
                    "data": {
                        "text/html": [
                            "Total execution time: 00:00:00.007"
                        ]
                    },
                    "metadata": {},
                    "output_type": "display_data"
                },
                {
                    "data": {
                        "application/vnd.dataresource+json": {
                            "data": [
                                {
                                    "0": "1",
                                    "1": "1",
                                    "2": "1",
                                    "3": "10mg",
                                    "4": "Take with water",
                                    "5": "2023-01-01",
                                    "6": "2024-11-10",
                                    "7": "NULL"
                                },
                                {
                                    "0": "2",
                                    "1": "2",
                                    "2": "2",
                                    "3": "5mg",
                                    "4": "Take before meals",
                                    "5": "2023-01-01",
                                    "6": "2024-12-15",
                                    "7": "{\"alternative_info\": \"Some alternative information\"}"
                                }
                            ],
                            "schema": {
                                "fields": [
                                    {
                                        "name": "id"
                                    },
                                    {
                                        "name": "patient_id"
                                    },
                                    {
                                        "name": "medication_id"
                                    },
                                    {
                                        "name": "dosage"
                                    },
                                    {
                                        "name": "instructions"
                                    },
                                    {
                                        "name": "starts_at"
                                    },
                                    {
                                        "name": "ends_at"
                                    },
                                    {
                                        "name": "alternative"
                                    }
                                ]
                            }
                        },
                        "text/html": [
                            "<table>\n",
                            "<tr><th>id</th><th>patient_id</th><th>medication_id</th><th>dosage</th><th>instructions</th><th>starts_at</th><th>ends_at</th><th>alternative</th></tr>\n",
                            "<tr><td>1</td><td>1</td><td>1</td><td>10mg</td><td>Take with water</td><td>2023-01-01</td><td>2024-11-10</td><td>NULL</td></tr>\n",
                            "<tr><td>2</td><td>2</td><td>2</td><td>5mg</td><td>Take before meals</td><td>2023-01-01</td><td>2024-12-15</td><td>{&quot;alternative_info&quot;: &quot;Some alternative information&quot;}</td></tr>\n",
                            "</table>"
                        ]
                    },
                    "execution_count": 6,
                    "metadata": {},
                    "output_type": "execute_result"
                }
            ],
            "source": [
                "SELECT TOP (1000) [id]\n",
                "      ,[patient_id]\n",
                "      ,[medication_id]\n",
                "      ,[dosage]\n",
                "      ,[instructions]\n",
                "      ,[starts_at]\n",
                "      ,[ends_at]\n",
                "      ,[alternative]\n",
                "  FROM [MedicationDB].[dbo].[medication_schedule_table]"
            ]
        },
        {
            "cell_type": "code",
            "execution_count": 4,
            "metadata": {
                "azdata_cell_guid": "5c2d0e5a-0a5b-4fce-9c10-6cc6d8aa8ff7",
                "language": "sql"
            },
            "outputs": [
                {
                    "data": {
                        "text/html": [
                            "(3 rows affected)"
                        ]
                    },
                    "metadata": {},
                    "output_type": "display_data"
                },
                {
                    "data": {
                        "text/html": [
                            "Total execution time: 00:00:00.004"
                        ]
                    },
                    "metadata": {},
                    "output_type": "display_data"
                },
                {
                    "data": {
                        "application/vnd.dataresource+json": {
                            "data": [
                                {
                                    "0": "1",
                                    "1": "1",
                                    "2": "08:00:00"
                                },
                                {
                                    "0": "2",
                                    "1": "1",
                                    "2": "12:00:00"
                                },
                                {
                                    "0": "3",
                                    "1": "2",
                                    "2": "09:30:00"
                                }
                            ],
                            "schema": {
                                "fields": [
                                    {
                                        "name": "id"
                                    },
                                    {
                                        "name": "medication_schedule_id"
                                    },
                                    {
                                        "name": "time"
                                    }
                                ]
                            }
                        },
                        "text/html": [
                            "<table>\n",
                            "<tr><th>id</th><th>medication_schedule_id</th><th>time</th></tr>\n",
                            "<tr><td>1</td><td>1</td><td>08:00:00</td></tr>\n",
                            "<tr><td>2</td><td>1</td><td>12:00:00</td></tr>\n",
                            "<tr><td>3</td><td>2</td><td>09:30:00</td></tr>\n",
                            "</table>"
                        ]
                    },
                    "execution_count": 4,
                    "metadata": {},
                    "output_type": "execute_result"
                }
            ],
            "source": [
                "SELECT TOP (1000) [id]\n",
                "      ,[medication_schedule_id]\n",
                "      ,[time]\n",
                "  FROM [MedicationDB].[dbo].[medication_schedule_times_table]"
            ]
        },
        {
            "cell_type": "code",
            "execution_count": 7,
            "metadata": {
                "azdata_cell_guid": "17e742ee-796a-4968-afce-9388ce2dc799",
                "language": "sql"
            },
            "outputs": [
                {
                    "data": {
                        "text/html": [
                            "(2 rows affected)"
                        ]
                    },
                    "metadata": {},
                    "output_type": "display_data"
                },
                {
                    "data": {
                        "text/html": [
                            "Total execution time: 00:00:00.005"
                        ]
                    },
                    "metadata": {},
                    "output_type": "display_data"
                },
                {
                    "data": {
                        "application/vnd.dataresource+json": {
                            "data": [
                                {
                                    "0": "1",
                                    "1": "2024-11-10 08:30:00.000",
                                    "2": "1",
                                    "3": "2"
                                },
                                {
                                    "0": "2",
                                    "1": "2024-12-15 10:00:00.000",
                                    "2": "3",
                                    "3": "1"
                                }
                            ],
                            "schema": {
                                "fields": [
                                    {
                                        "name": "id"
                                    },
                                    {
                                        "name": "administered_date_time"
                                    },
                                    {
                                        "name": "medication_schedule_times_id"
                                    },
                                    {
                                        "name": "administered_by_user_id"
                                    }
                                ]
                            }
                        },
                        "text/html": [
                            "<table>\n",
                            "<tr><th>id</th><th>administered_date_time</th><th>medication_schedule_times_id</th><th>administered_by_user_id</th></tr>\n",
                            "<tr><td>1</td><td>2024-11-10 08:30:00.000</td><td>1</td><td>2</td></tr>\n",
                            "<tr><td>2</td><td>2024-12-15 10:00:00.000</td><td>3</td><td>1</td></tr>\n",
                            "</table>"
                        ]
                    },
                    "execution_count": 7,
                    "metadata": {},
                    "output_type": "execute_result"
                }
            ],
            "source": [
                "SELECT TOP (1000) [id]\n",
                "      ,[administered_date_time]\n",
                "      ,[medication_schedule_times_id]\n",
                "      ,[administered_by_user_id]\n",
                "  FROM [MedicationDB].[dbo].[medication_administration_table]"
            ]
        },
        {
            "cell_type": "code",
            "execution_count": 14,
            "metadata": {
                "azdata_cell_guid": "dc584e8a-3f8c-4ea1-a76f-52efa363a903",
                "language": "sql",
                "tags": []
            },
            "outputs": [
                {
                    "data": {
                        "text/html": [
                            "(2 rows affected)"
                        ]
                    },
                    "metadata": {},
                    "output_type": "display_data"
                },
                {
                    "data": {
                        "text/html": [
                            "Total execution time: 00:00:00.008"
                        ]
                    },
                    "metadata": {},
                    "output_type": "display_data"
                },
                {
                    "data": {
                        "application/vnd.dataresource+json": {
                            "data": [
                                {
                                    "0": "1",
                                    "1": "2023-01-01",
                                    "2": "2024-11-10",
                                    "3": "10mg",
                                    "4": "Take with water",
                                    "5": "08:00:00",
                                    "6": "2",
                                    "7": "Medication A"
                                },
                                {
                                    "0": "1",
                                    "1": "2023-01-01",
                                    "2": "2024-11-10",
                                    "3": "10mg",
                                    "4": "Take with water",
                                    "5": "12:00:00",
                                    "6": "NULL",
                                    "7": "Medication A"
                                }
                            ],
                            "schema": {
                                "fields": [
                                    {
                                        "name": "patient_id"
                                    },
                                    {
                                        "name": "schedule_start_date"
                                    },
                                    {
                                        "name": "schedule_end_date"
                                    },
                                    {
                                        "name": "medication_dosage"
                                    },
                                    {
                                        "name": "instructions"
                                    },
                                    {
                                        "name": "schedule_time"
                                    },
                                    {
                                        "name": "administered_by_user_id"
                                    },
                                    {
                                        "name": "medication_name"
                                    }
                                ]
                            }
                        },
                        "text/html": [
                            "<table>\n",
                            "<tr><th>patient_id</th><th>schedule_start_date</th><th>schedule_end_date</th><th>medication_dosage</th><th>instructions</th><th>schedule_time</th><th>administered_by_user_id</th><th>medication_name</th></tr>\n",
                            "<tr><td>1</td><td>2023-01-01</td><td>2024-11-10</td><td>10mg</td><td>Take with water</td><td>08:00:00</td><td>2</td><td>Medication A</td></tr>\n",
                            "<tr><td>1</td><td>2023-01-01</td><td>2024-11-10</td><td>10mg</td><td>Take with water</td><td>12:00:00</td><td>NULL</td><td>Medication A</td></tr>\n",
                            "</table>"
                        ]
                    },
                    "execution_count": 14,
                    "metadata": {},
                    "output_type": "execute_result"
                }
            ],
            "source": [
                "-- GET /patient={patientId}/medicationPlan/Date={dateOfShowcase}:\n",
                "\n",
                "USE MedicationDB;\n",
                "SELECT\n",
                "  pt.id AS patient_id,\n",
                "  st.starts_at AS schedule_start_date,\n",
                "  --   pt.first_name AS patient_first_name,\n",
                "  --   pt.last_name AS patient_last_name,\n",
                "  --   st.id AS schedule_id,\n",
                "  st.ends_at AS schedule_end_date,\n",
                "  st.dosage AS medication_dosage,\n",
                "  st.instructions AS instructions,\n",
                "  mstt.time AS schedule_time,\n",
                "  ma.administered_by_user_id,\n",
                "  mt.name AS medication_name\n",
                "\n",
                "FROM\n",
                "  patient_table pt\n",
                "  INNER JOIN medication_schedule_table st ON pt.id = st.patient_id\n",
                "  INNER JOIN medication_schedule_times_table mstt ON st.id = mstt.medication_schedule_id\n",
                "  LEFT JOIN medication_administration_table ma ON mstt.id = ma.medication_schedule_times_id\n",
                "  INNER JOIN medication_table mt ON st.medication_id = mt.id\n",
                "WHERE\n",
                "  pt.id = 1\n",
                "  AND (\n",
                "    ('2023-01-01' BETWEEN st.starts_at AND st.ends_at)\n",
                "    OR ('2023-01-01' >= st.starts_at AND st.ends_at IS NULL)\n",
                "  );\n"
            ]
        }
    ],
    "metadata": {
        "kernelspec": {
            "display_name": "SQL",
            "language": "sql",
            "name": "SQL"
        },
        "language_info": {
            "name": "sql",
            "version": ""
        }
    },
    "nbformat": 4,
    "nbformat_minor": 2
}
